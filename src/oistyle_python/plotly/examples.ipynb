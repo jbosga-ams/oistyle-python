{
 "cells": [
  {
   "cell_type": "code",
   "execution_count": 2,
   "id": "e496c0ca",
   "metadata": {},
   "outputs": [],
   "source": [
    "import pandas as pd\n",
    "\n",
    "import plotly.graph_objects as go\n",
    "import plotly.express as px\n",
    "\n",
    "#Toevoegen van src path aan sys path\n",
    "import sys\n",
    "import os.path\n",
    "sys.path.append(os.path.dirname(os.path.abspath('')))\n",
    "sys.path.append('c:\\\\Users\\\\schmit009\\\\Documents\\\\python_projects\\\\oistyle-python\\\\plotly')"
   ]
  },
  {
   "cell_type": "code",
   "execution_count": 3,
   "id": "a5a8bf4d-d8f7-4b1c-afbe-98c9a32efd88",
   "metadata": {},
   "outputs": [],
   "source": [
    "%load_ext autoreload\n",
    "%autoreload"
   ]
  },
  {
   "cell_type": "code",
   "execution_count": 4,
   "metadata": {},
   "outputs": [],
   "source": [
    "from basestyle import BaseStyle\n",
    "\n",
    "from bargraph import Bar\n",
    "from donut import Donut\n",
    "from linegraph import Line\n",
    "\n"
   ]
  },
  {
   "cell_type": "code",
   "execution_count": 5,
   "id": "d7964049-5bf6-47ba-8ab7-d03d34b982bc",
   "metadata": {},
   "outputs": [
    {
     "data": {
      "text/plain": [
       "layout.Template({\n",
       "    'layout': {'colorway': [#004699, #00a0e6, #71BDEE, #B1D9F5, #E5F2FC],\n",
       "               'font': {'family': 'Corbel', 'size': 15},\n",
       "               'plot_bgcolor': '#FFFFFF',\n",
       "               'separators': ',',\n",
       "               'xaxis': {'gridcolor': '#dbdbdb',\n",
       "                         'gridwidth': 0.75,\n",
       "                         'linecolor': '#dbdbdb',\n",
       "                         'linewidth': 0.75,\n",
       "                         'showgrid': False,\n",
       "                         'showline': True,\n",
       "                         'zerolinecolor': '#dbdbdb'},\n",
       "               'yaxis': {'zeroline': False}}\n",
       "})"
      ]
     },
     "execution_count": 5,
     "metadata": {},
     "output_type": "execute_result"
    }
   ],
   "source": [
    "basestyle = BaseStyle()\n",
    "basestyle.get_base_template(graph_type=\"bar\", orientation=\"v\")"
   ]
  },
  {
   "cell_type": "code",
   "execution_count": 6,
   "id": "66917205",
   "metadata": {},
   "outputs": [],
   "source": [
    "arm = pd.read_excel(\"armoedemonitor.xlsx\")\n",
    "arm_long = pd.melt(arm, \"inkomen\", list(range(2011, 2019)), var_name='jaar')\n",
    "arm_long['value'] = arm_long['value'] / 100"
   ]
  },
  {
   "cell_type": "code",
   "execution_count": 7,
   "id": "444ab491",
   "metadata": {},
   "outputs": [
    {
     "data": {
      "application/vnd.plotly.v1+json": {
       "config": {
        "plotlyServerURL": "https://plot.ly"
       },
       "data": [
        {
         "alignmentgroup": "True",
         "hovertemplate": "Inkomenscategorie %{value}",
         "legendgroup": "0%-99% SM",
         "marker": {
          "color": "#004699",
          "pattern": {
           "shape": ""
          }
         },
         "name": "0%-99% SM",
         "offsetgroup": "0%-99% SM",
         "orientation": "v",
         "showlegend": true,
         "textposition": "auto",
         "type": "bar",
         "x": [
          2011
         ],
         "xaxis": "x",
         "y": [
          0.10993618718425952
         ],
         "yaxis": "y"
        },
        {
         "alignmentgroup": "True",
         "hovertemplate": "Inkomenscategorie %{value}",
         "legendgroup": "100%-109% SM",
         "marker": {
          "color": "#00a0e6",
          "pattern": {
           "shape": ""
          }
         },
         "name": "100%-109% SM",
         "offsetgroup": "100%-109% SM",
         "orientation": "v",
         "showlegend": true,
         "textposition": "auto",
         "type": "bar",
         "x": [
          2011
         ],
         "xaxis": "x",
         "y": [
          0.07913586812018081
         ],
         "yaxis": "y"
        },
        {
         "alignmentgroup": "True",
         "hovertemplate": "Inkomenscategorie %{value}",
         "legendgroup": "110%-119% SM",
         "marker": {
          "color": "#71BDEE",
          "pattern": {
           "shape": ""
          }
         },
         "name": "110%-119% SM",
         "offsetgroup": "110%-119% SM",
         "orientation": "v",
         "showlegend": true,
         "textposition": "auto",
         "type": "bar",
         "x": [
          2011
         ],
         "xaxis": "x",
         "y": [
          0.03723477798457857
         ],
         "yaxis": "y"
        },
        {
         "alignmentgroup": "True",
         "hovertemplate": "Inkomenscategorie %{value}",
         "legendgroup": "120%-129% SM",
         "marker": {
          "color": "#B1D9F5",
          "pattern": {
           "shape": ""
          }
         },
         "name": "120%-129% SM",
         "offsetgroup": "120%-129% SM",
         "orientation": "v",
         "showlegend": true,
         "textposition": "auto",
         "type": "bar",
         "x": [
          2011
         ],
         "xaxis": "x",
         "y": [
          0.03332624302047328
         ],
         "yaxis": "y"
        },
        {
         "alignmentgroup": "True",
         "hovertemplate": "Inkomenscategorie %{value}",
         "legendgroup": "130%-199% SM",
         "marker": {
          "color": "#E5F2FC",
          "pattern": {
           "shape": ""
          }
         },
         "name": "130%-199% SM",
         "offsetgroup": "130%-199% SM",
         "orientation": "v",
         "showlegend": true,
         "textposition": "auto",
         "type": "bar",
         "x": [
          2011
         ],
         "xaxis": "x",
         "y": [
          0.20945493219888328
         ],
         "yaxis": "y"
        },
        {
         "alignmentgroup": "True",
         "hovertemplate": "Inkomenscategorie %{value}",
         "legendgroup": "200%-299% SM",
         "marker": {
          "color": "#004699",
          "pattern": {
           "shape": ""
          }
         },
         "name": "200%-299% SM",
         "offsetgroup": "200%-299% SM",
         "orientation": "v",
         "showlegend": true,
         "textposition": "auto",
         "type": "bar",
         "x": [
          2011
         ],
         "xaxis": "x",
         "y": [
          0.2328370114331295
         ],
         "yaxis": "y"
        },
        {
         "alignmentgroup": "True",
         "hovertemplate": "Inkomenscategorie %{value}",
         "legendgroup": "300% SM of meer",
         "marker": {
          "color": "#00a0e6",
          "pattern": {
           "shape": ""
          }
         },
         "name": "300% SM of meer",
         "offsetgroup": "300% SM of meer",
         "orientation": "v",
         "showlegend": true,
         "textposition": "auto",
         "type": "bar",
         "x": [
          2011
         ],
         "xaxis": "x",
         "y": [
          0.2980749800584951
         ],
         "yaxis": "y"
        }
       ],
       "layout": {
        "barmode": "relative",
        "height": 490,
        "legend": {
         "title": {
          "text": ""
         },
         "tracegroupgap": 0
        },
        "margin": {
         "t": 60
        },
        "template": {
         "layout": {
          "colorway": [
           "#004699",
           "#00a0e6",
           "#71BDEE",
           "#B1D9F5",
           "#E5F2FC"
          ],
          "font": {
           "family": "Corbel",
           "size": 15
          },
          "plot_bgcolor": "#FFFFFF",
          "separators": ",",
          "xaxis": {
           "gridcolor": "#dbdbdb",
           "gridwidth": 0.75,
           "linecolor": "#dbdbdb",
           "linewidth": 0.75,
           "showgrid": false,
           "showline": true,
           "zerolinecolor": "#dbdbdb"
          },
          "yaxis": {
           "zeroline": false
          }
         }
        },
        "width": 400,
        "xaxis": {
         "anchor": "y",
         "domain": [
          0,
          1
         ],
         "showticklabels": false,
         "title": {
          "text": ""
         }
        },
        "yaxis": {
         "anchor": "x",
         "domain": [
          0,
          1
         ],
         "tickformat": ".0%",
         "title": {
          "text": ""
         }
        }
       }
      }
     },
     "metadata": {},
     "output_type": "display_data"
    }
   ],
   "source": [
    "fig = Bar.stacked_single(\n",
    "    arm_long.query(\"jaar == 2011\"), \n",
    "    x='jaar', \n",
    "    y='value', \n",
    "    color='inkomen', \n",
    "    orientation='v', \n",
    "    width=400,\n",
    "    color_continuous_scale=['red', 'green']\n",
    "\n",
    ")\n",
    "fig.update_yaxes(dict(tickformat=\".0%\"))\n",
    "# fig.update_traces(texttemplate='%{value:.0%}', textposition='auto')\n",
    "fig.update_traces(hovertemplate=\"Inkomenscategorie %{value}\")\n",
    "\n"
   ]
  },
  {
   "cell_type": "code",
   "execution_count": 8,
   "id": "5c71a5c4",
   "metadata": {},
   "outputs": [
    {
     "data": {
      "application/vnd.plotly.v1+json": {
       "config": {
        "plotlyServerURL": "https://plot.ly"
       },
       "data": [
        {
         "alignmentgroup": "True",
         "hovertemplate": "inkomen=0%-99% SM<br>value=%{x}<br>jaar=%{y}<extra></extra>",
         "legendgroup": "0%-99% SM",
         "marker": {
          "color": "#004699",
          "pattern": {
           "shape": ""
          }
         },
         "name": "0%-99% SM",
         "offsetgroup": "0%-99% SM",
         "orientation": "h",
         "showlegend": true,
         "textposition": "auto",
         "type": "bar",
         "x": [
          0.10993618718425952
         ],
         "xaxis": "x",
         "y": [
          2011
         ],
         "yaxis": "y"
        },
        {
         "alignmentgroup": "True",
         "hovertemplate": "inkomen=100%-109% SM<br>value=%{x}<br>jaar=%{y}<extra></extra>",
         "legendgroup": "100%-109% SM",
         "marker": {
          "color": "#00a0e6",
          "pattern": {
           "shape": ""
          }
         },
         "name": "100%-109% SM",
         "offsetgroup": "100%-109% SM",
         "orientation": "h",
         "showlegend": true,
         "textposition": "auto",
         "type": "bar",
         "x": [
          0.07913586812018081
         ],
         "xaxis": "x",
         "y": [
          2011
         ],
         "yaxis": "y"
        },
        {
         "alignmentgroup": "True",
         "hovertemplate": "inkomen=110%-119% SM<br>value=%{x}<br>jaar=%{y}<extra></extra>",
         "legendgroup": "110%-119% SM",
         "marker": {
          "color": "#71BDEE",
          "pattern": {
           "shape": ""
          }
         },
         "name": "110%-119% SM",
         "offsetgroup": "110%-119% SM",
         "orientation": "h",
         "showlegend": true,
         "textposition": "auto",
         "type": "bar",
         "x": [
          0.03723477798457857
         ],
         "xaxis": "x",
         "y": [
          2011
         ],
         "yaxis": "y"
        },
        {
         "alignmentgroup": "True",
         "hovertemplate": "inkomen=120%-129% SM<br>value=%{x}<br>jaar=%{y}<extra></extra>",
         "legendgroup": "120%-129% SM",
         "marker": {
          "color": "#B1D9F5",
          "pattern": {
           "shape": ""
          }
         },
         "name": "120%-129% SM",
         "offsetgroup": "120%-129% SM",
         "orientation": "h",
         "showlegend": true,
         "textposition": "auto",
         "type": "bar",
         "x": [
          0.03332624302047328
         ],
         "xaxis": "x",
         "y": [
          2011
         ],
         "yaxis": "y"
        },
        {
         "alignmentgroup": "True",
         "hovertemplate": "inkomen=130%-199% SM<br>value=%{x}<br>jaar=%{y}<extra></extra>",
         "legendgroup": "130%-199% SM",
         "marker": {
          "color": "#E5F2FC",
          "pattern": {
           "shape": ""
          }
         },
         "name": "130%-199% SM",
         "offsetgroup": "130%-199% SM",
         "orientation": "h",
         "showlegend": true,
         "textposition": "auto",
         "type": "bar",
         "x": [
          0.20945493219888328
         ],
         "xaxis": "x",
         "y": [
          2011
         ],
         "yaxis": "y"
        },
        {
         "alignmentgroup": "True",
         "hovertemplate": "inkomen=200%-299% SM<br>value=%{x}<br>jaar=%{y}<extra></extra>",
         "legendgroup": "200%-299% SM",
         "marker": {
          "color": "#004699",
          "pattern": {
           "shape": ""
          }
         },
         "name": "200%-299% SM",
         "offsetgroup": "200%-299% SM",
         "orientation": "h",
         "showlegend": true,
         "textposition": "auto",
         "type": "bar",
         "x": [
          0.2328370114331295
         ],
         "xaxis": "x",
         "y": [
          2011
         ],
         "yaxis": "y"
        },
        {
         "alignmentgroup": "True",
         "hovertemplate": "inkomen=300% SM of meer<br>value=%{x}<br>jaar=%{y}<extra></extra>",
         "legendgroup": "300% SM of meer",
         "marker": {
          "color": "#00a0e6",
          "pattern": {
           "shape": ""
          }
         },
         "name": "300% SM of meer",
         "offsetgroup": "300% SM of meer",
         "orientation": "h",
         "showlegend": true,
         "textposition": "auto",
         "type": "bar",
         "x": [
          0.2980749800584951
         ],
         "xaxis": "x",
         "y": [
          2011
         ],
         "yaxis": "y"
        }
       ],
       "layout": {
        "barmode": "relative",
        "height": 320,
        "legend": {
         "title": {
          "text": ""
         },
         "tracegroupgap": 0
        },
        "margin": {
         "t": 60
        },
        "template": {
         "layout": {
          "colorway": [
           "#004699",
           "#00a0e6",
           "#71BDEE",
           "#B1D9F5",
           "#E5F2FC"
          ],
          "font": {
           "family": "Corbel",
           "size": 15
          },
          "plot_bgcolor": "#FFFFFF",
          "separators": ",",
          "xaxis": {
           "zeroline": false
          },
          "yaxis": {
           "gridcolor": "#dbdbdb",
           "gridwidth": 0.75,
           "linecolor": "#dbdbdb",
           "linewidth": 0.75,
           "showgrid": false,
           "showline": true,
           "zerolinecolor": "#dbdbdb"
          }
         }
        },
        "width": 750,
        "xaxis": {
         "anchor": "y",
         "domain": [
          0,
          1
         ],
         "tickformat": ".0%",
         "title": {
          "text": ""
         }
        },
        "yaxis": {
         "anchor": "x",
         "domain": [
          0,
          1
         ],
         "showticklabels": false,
         "title": {
          "text": ""
         }
        }
       }
      }
     },
     "metadata": {},
     "output_type": "display_data"
    }
   ],
   "source": [
    "fig = Bar.stacked_single(\n",
    "    arm_long.query(\"jaar == 2011\"), \n",
    "    y='jaar',\n",
    "    x='value', \n",
    "    color='inkomen', \n",
    "    orientation='h', \n",
    "    height=320\n",
    ")\n",
    "# fig.update_layout({\"legend\": {\"orientation\": 'h'}})\n",
    "fig.update_xaxes(dict(tickformat=\".0%\"))\n",
    "fig.show()"
   ]
  },
  {
   "cell_type": "code",
   "execution_count": 9,
   "id": "841c3a93",
   "metadata": {},
   "outputs": [
    {
     "data": {
      "application/vnd.plotly.v1+json": {
       "config": {
        "plotlyServerURL": "https://plot.ly"
       },
       "data": [
        {
         "alignmentgroup": "True",
         "hovertemplate": "inkomen=0%-99% SM<br>jaar=%{x}<br>value=%{y}<extra></extra>",
         "legendgroup": "0%-99% SM",
         "marker": {
          "color": "#004699",
          "pattern": {
           "shape": ""
          }
         },
         "name": "0%-99% SM",
         "offsetgroup": "0%-99% SM",
         "orientation": "v",
         "showlegend": true,
         "textposition": "auto",
         "type": "bar",
         "x": [
          2011,
          2012,
          2013,
          2014,
          2015,
          2016,
          2017,
          2018
         ],
         "xaxis": "x",
         "y": [
          0.10993618718425952,
          0.11807772617538617,
          0.12945131643858143,
          0.11438625885905918,
          0.1126583601142767,
          0.10307948972039989,
          0.09994936958964669,
          0.10124926100735601
         ],
         "yaxis": "y"
        },
        {
         "alignmentgroup": "True",
         "hovertemplate": "inkomen=100%-109% SM<br>jaar=%{x}<br>value=%{y}<extra></extra>",
         "legendgroup": "100%-109% SM",
         "marker": {
          "color": "#00a0e6",
          "pattern": {
           "shape": ""
          }
         },
         "name": "100%-109% SM",
         "offsetgroup": "100%-109% SM",
         "orientation": "v",
         "showlegend": true,
         "textposition": "auto",
         "type": "bar",
         "x": [
          2011,
          2012,
          2013,
          2014,
          2015,
          2016,
          2017,
          2018
         ],
         "xaxis": "x",
         "y": [
          0.07913586812018081,
          0.07421277132893983,
          0.06383167544118376,
          0.07889055231919245,
          0.07514125301683823,
          0.078957865556127,
          0.07648402672297756,
          0.06939019780773592
         ],
         "yaxis": "y"
        },
        {
         "alignmentgroup": "True",
         "hovertemplate": "inkomen=110%-119% SM<br>jaar=%{x}<br>value=%{y}<extra></extra>",
         "legendgroup": "110%-119% SM",
         "marker": {
          "color": "#71BDEE",
          "pattern": {
           "shape": ""
          }
         },
         "name": "110%-119% SM",
         "offsetgroup": "110%-119% SM",
         "orientation": "v",
         "showlegend": true,
         "textposition": "auto",
         "type": "bar",
         "x": [
          2011,
          2012,
          2013,
          2014,
          2015,
          2016,
          2017,
          2018
         ],
         "xaxis": "x",
         "y": [
          0.03723477798457857,
          0.03618069836795018,
          0.03722883609967712,
          0.035498292182825644,
          0.03378349104569284,
          0.03390574629018703,
          0.032936934266908705,
          0.030935928126302324
         ],
         "yaxis": "y"
        },
        {
         "alignmentgroup": "True",
         "hovertemplate": "inkomen=120%-129% SM<br>jaar=%{x}<br>value=%{y}<extra></extra>",
         "legendgroup": "120%-129% SM",
         "marker": {
          "color": "#B1D9F5",
          "pattern": {
           "shape": ""
          }
         },
         "name": "120%-129% SM",
         "offsetgroup": "120%-129% SM",
         "orientation": "v",
         "showlegend": true,
         "textposition": "auto",
         "type": "bar",
         "x": [
          2011,
          2012,
          2013,
          2014,
          2015,
          2016,
          2017,
          2018
         ],
         "xaxis": "x",
         "y": [
          0.03332624302047328,
          0.032675183691072904,
          0.03247832907440808,
          0.03168188317547983,
          0.030190044879848922,
          0.029844081233301137,
          0.02926437718420825,
          0.02760440391157287
         ],
         "yaxis": "y"
        },
        {
         "alignmentgroup": "True",
         "hovertemplate": "inkomen=130%-199% SM<br>jaar=%{x}<br>value=%{y}<extra></extra>",
         "legendgroup": "130%-199% SM",
         "marker": {
          "color": "#E5F2FC",
          "pattern": {
           "shape": ""
          }
         },
         "name": "130%-199% SM",
         "offsetgroup": "130%-199% SM",
         "orientation": "v",
         "showlegend": true,
         "textposition": "auto",
         "type": "bar",
         "x": [
          2011,
          2012,
          2013,
          2014,
          2015,
          2016,
          2017,
          2018
         ],
         "xaxis": "x",
         "y": [
          0.20945493219888328,
          0.20655449720978913,
          0.19521451671421527,
          0.19135309281682528,
          0.18364293887828415,
          0.1790318736593871,
          0.17389693624272962,
          0.16983020129675036
         ],
         "yaxis": "y"
        },
        {
         "alignmentgroup": "True",
         "hovertemplate": "inkomen=200%-299% SM<br>jaar=%{x}<br>value=%{y}<extra></extra>",
         "legendgroup": "200%-299% SM",
         "marker": {
          "color": "#004699",
          "pattern": {
           "shape": ""
          }
         },
         "name": "200%-299% SM",
         "offsetgroup": "200%-299% SM",
         "orientation": "v",
         "showlegend": true,
         "textposition": "auto",
         "type": "bar",
         "x": [
          2011,
          2012,
          2013,
          2014,
          2015,
          2016,
          2017,
          2018
         ],
         "xaxis": "x",
         "y": [
          0.2328370114331295,
          0.2334309863303336,
          0.22604060900455994,
          0.23014549412929766,
          0.22815070046714797,
          0.2286524253333501,
          0.22664147495029577,
          0.2272002597377425
         ],
         "yaxis": "y"
        },
        {
         "alignmentgroup": "True",
         "hovertemplate": "inkomen=300% SM of meer<br>jaar=%{x}<br>value=%{y}<extra></extra>",
         "legendgroup": "300% SM of meer",
         "marker": {
          "color": "#00a0e6",
          "pattern": {
           "shape": ""
          }
         },
         "name": "300% SM of meer",
         "offsetgroup": "300% SM of meer",
         "orientation": "v",
         "showlegend": true,
         "textposition": "auto",
         "type": "bar",
         "x": [
          2011,
          2012,
          2013,
          2014,
          2015,
          2016,
          2017,
          2018
         ],
         "xaxis": "x",
         "y": [
          0.2980749800584951,
          0.29886813689652814,
          0.3157547172273744,
          0.31804442651731996,
          0.33643321159791123,
          0.3465285182072478,
          0.3608268810432334,
          0.3737897481125401
         ],
         "yaxis": "y"
        }
       ],
       "layout": {
        "barmode": "stack",
        "height": 490,
        "legend": {
         "title": {
          "text": ""
         },
         "tracegroupgap": 0
        },
        "margin": {
         "t": 60
        },
        "template": {
         "layout": {
          "colorway": [
           "#004699",
           "#00a0e6",
           "#71BDEE",
           "#B1D9F5",
           "#E5F2FC"
          ],
          "font": {
           "family": "Corbel",
           "size": 15
          },
          "plot_bgcolor": "#FFFFFF",
          "separators": ",",
          "xaxis": {
           "gridcolor": "#dbdbdb",
           "gridwidth": 0.75,
           "linecolor": "#dbdbdb",
           "linewidth": 0.75,
           "showgrid": false,
           "showline": true,
           "zerolinecolor": "#dbdbdb"
          },
          "yaxis": {
           "zeroline": false
          }
         }
        },
        "width": 1000,
        "xaxis": {
         "anchor": "y",
         "domain": [
          0,
          1
         ],
         "title": {
          "text": ""
         }
        },
        "yaxis": {
         "anchor": "x",
         "domain": [
          0,
          1
         ],
         "tickformat": ".0%",
         "title": {
          "text": ""
         }
        }
       }
      }
     },
     "metadata": {},
     "output_type": "display_data"
    }
   ],
   "source": [
    "fig = Bar.stacked_multiple(arm_long, x='jaar', y='value', color='inkomen', orientation='v', width = 1000)\n",
    "fig.update_yaxes(dict(tickformat=\".0%\"))"
   ]
  },
  {
   "cell_type": "code",
   "execution_count": 10,
   "id": "b39d51bb",
   "metadata": {},
   "outputs": [
    {
     "data": {
      "application/vnd.plotly.v1+json": {
       "config": {
        "plotlyServerURL": "https://plot.ly"
       },
       "data": [
        {
         "alignmentgroup": "True",
         "hovertemplate": "inkomen=0%-99% SM<br>value=%{x}<br>jaar=%{y}<extra></extra>",
         "legendgroup": "0%-99% SM",
         "marker": {
          "color": "#004699",
          "pattern": {
           "shape": ""
          }
         },
         "name": "0%-99% SM",
         "offsetgroup": "0%-99% SM",
         "orientation": "h",
         "showlegend": true,
         "textposition": "auto",
         "type": "bar",
         "x": [
          0.10993618718425952,
          0.11807772617538617,
          0.12945131643858143,
          0.11438625885905918,
          0.1126583601142767,
          0.10307948972039989,
          0.09994936958964669,
          0.10124926100735601
         ],
         "xaxis": "x",
         "y": [
          2011,
          2012,
          2013,
          2014,
          2015,
          2016,
          2017,
          2018
         ],
         "yaxis": "y"
        },
        {
         "alignmentgroup": "True",
         "hovertemplate": "inkomen=100%-109% SM<br>value=%{x}<br>jaar=%{y}<extra></extra>",
         "legendgroup": "100%-109% SM",
         "marker": {
          "color": "#00a0e6",
          "pattern": {
           "shape": ""
          }
         },
         "name": "100%-109% SM",
         "offsetgroup": "100%-109% SM",
         "orientation": "h",
         "showlegend": true,
         "textposition": "auto",
         "type": "bar",
         "x": [
          0.07913586812018081,
          0.07421277132893983,
          0.06383167544118376,
          0.07889055231919245,
          0.07514125301683823,
          0.078957865556127,
          0.07648402672297756,
          0.06939019780773592
         ],
         "xaxis": "x",
         "y": [
          2011,
          2012,
          2013,
          2014,
          2015,
          2016,
          2017,
          2018
         ],
         "yaxis": "y"
        },
        {
         "alignmentgroup": "True",
         "hovertemplate": "inkomen=110%-119% SM<br>value=%{x}<br>jaar=%{y}<extra></extra>",
         "legendgroup": "110%-119% SM",
         "marker": {
          "color": "#71BDEE",
          "pattern": {
           "shape": ""
          }
         },
         "name": "110%-119% SM",
         "offsetgroup": "110%-119% SM",
         "orientation": "h",
         "showlegend": true,
         "textposition": "auto",
         "type": "bar",
         "x": [
          0.03723477798457857,
          0.03618069836795018,
          0.03722883609967712,
          0.035498292182825644,
          0.03378349104569284,
          0.03390574629018703,
          0.032936934266908705,
          0.030935928126302324
         ],
         "xaxis": "x",
         "y": [
          2011,
          2012,
          2013,
          2014,
          2015,
          2016,
          2017,
          2018
         ],
         "yaxis": "y"
        },
        {
         "alignmentgroup": "True",
         "hovertemplate": "inkomen=120%-129% SM<br>value=%{x}<br>jaar=%{y}<extra></extra>",
         "legendgroup": "120%-129% SM",
         "marker": {
          "color": "#B1D9F5",
          "pattern": {
           "shape": ""
          }
         },
         "name": "120%-129% SM",
         "offsetgroup": "120%-129% SM",
         "orientation": "h",
         "showlegend": true,
         "textposition": "auto",
         "type": "bar",
         "x": [
          0.03332624302047328,
          0.032675183691072904,
          0.03247832907440808,
          0.03168188317547983,
          0.030190044879848922,
          0.029844081233301137,
          0.02926437718420825,
          0.02760440391157287
         ],
         "xaxis": "x",
         "y": [
          2011,
          2012,
          2013,
          2014,
          2015,
          2016,
          2017,
          2018
         ],
         "yaxis": "y"
        },
        {
         "alignmentgroup": "True",
         "hovertemplate": "inkomen=130%-199% SM<br>value=%{x}<br>jaar=%{y}<extra></extra>",
         "legendgroup": "130%-199% SM",
         "marker": {
          "color": "#E5F2FC",
          "pattern": {
           "shape": ""
          }
         },
         "name": "130%-199% SM",
         "offsetgroup": "130%-199% SM",
         "orientation": "h",
         "showlegend": true,
         "textposition": "auto",
         "type": "bar",
         "x": [
          0.20945493219888328,
          0.20655449720978913,
          0.19521451671421527,
          0.19135309281682528,
          0.18364293887828415,
          0.1790318736593871,
          0.17389693624272962,
          0.16983020129675036
         ],
         "xaxis": "x",
         "y": [
          2011,
          2012,
          2013,
          2014,
          2015,
          2016,
          2017,
          2018
         ],
         "yaxis": "y"
        },
        {
         "alignmentgroup": "True",
         "hovertemplate": "inkomen=200%-299% SM<br>value=%{x}<br>jaar=%{y}<extra></extra>",
         "legendgroup": "200%-299% SM",
         "marker": {
          "color": "#004699",
          "pattern": {
           "shape": ""
          }
         },
         "name": "200%-299% SM",
         "offsetgroup": "200%-299% SM",
         "orientation": "h",
         "showlegend": true,
         "textposition": "auto",
         "type": "bar",
         "x": [
          0.2328370114331295,
          0.2334309863303336,
          0.22604060900455994,
          0.23014549412929766,
          0.22815070046714797,
          0.2286524253333501,
          0.22664147495029577,
          0.2272002597377425
         ],
         "xaxis": "x",
         "y": [
          2011,
          2012,
          2013,
          2014,
          2015,
          2016,
          2017,
          2018
         ],
         "yaxis": "y"
        },
        {
         "alignmentgroup": "True",
         "hovertemplate": "inkomen=300% SM of meer<br>value=%{x}<br>jaar=%{y}<extra></extra>",
         "legendgroup": "300% SM of meer",
         "marker": {
          "color": "#00a0e6",
          "pattern": {
           "shape": ""
          }
         },
         "name": "300% SM of meer",
         "offsetgroup": "300% SM of meer",
         "orientation": "h",
         "showlegend": true,
         "textposition": "auto",
         "type": "bar",
         "x": [
          0.2980749800584951,
          0.29886813689652814,
          0.3157547172273744,
          0.31804442651731996,
          0.33643321159791123,
          0.3465285182072478,
          0.3608268810432334,
          0.3737897481125401
         ],
         "xaxis": "x",
         "y": [
          2011,
          2012,
          2013,
          2014,
          2015,
          2016,
          2017,
          2018
         ],
         "yaxis": "y"
        }
       ],
       "layout": {
        "barmode": "stack",
        "height": 490,
        "legend": {
         "title": {
          "text": ""
         },
         "tracegroupgap": 0
        },
        "margin": {
         "t": 60
        },
        "template": {
         "layout": {
          "colorway": [
           "#004699",
           "#00a0e6",
           "#71BDEE",
           "#B1D9F5",
           "#E5F2FC"
          ],
          "font": {
           "family": "Corbel",
           "size": 15
          },
          "plot_bgcolor": "#FFFFFF",
          "separators": ",",
          "xaxis": {
           "zeroline": false
          },
          "yaxis": {
           "gridcolor": "#dbdbdb",
           "gridwidth": 0.75,
           "linecolor": "#dbdbdb",
           "linewidth": 0.75,
           "showgrid": false,
           "showline": true,
           "zerolinecolor": "#dbdbdb"
          }
         }
        },
        "width": 750,
        "xaxis": {
         "anchor": "y",
         "domain": [
          0,
          1
         ],
         "tickformat": ".0%",
         "title": {
          "text": ""
         }
        },
        "yaxis": {
         "anchor": "x",
         "domain": [
          0,
          1
         ],
         "title": {
          "text": ""
         }
        }
       }
      }
     },
     "metadata": {},
     "output_type": "display_data"
    }
   ],
   "source": [
    "fig = Bar.stacked_multiple(arm_long, y='jaar', x='value', color='inkomen', orientation='h')\n",
    "fig.update_xaxes(dict(tickformat=\".0%\"))"
   ]
  },
  {
   "cell_type": "code",
   "execution_count": 11,
   "id": "efd052bc",
   "metadata": {},
   "outputs": [
    {
     "data": {
      "application/vnd.plotly.v1+json": {
       "config": {
        "plotlyServerURL": "https://plot.ly"
       },
       "data": [
        {
         "alignmentgroup": "True",
         "hovertemplate": "inkomen=0%-99% SM<br>jaar=%{x}<br>value=%{y}<extra></extra>",
         "legendgroup": "0%-99% SM",
         "marker": {
          "color": "#004699",
          "pattern": {
           "shape": ""
          }
         },
         "name": "0%-99% SM",
         "offsetgroup": "0%-99% SM",
         "orientation": "v",
         "showlegend": true,
         "textposition": "auto",
         "type": "bar",
         "x": [
          2011,
          2012,
          2013,
          2014,
          2015,
          2016,
          2017,
          2018
         ],
         "xaxis": "x",
         "y": [
          0.10993618718425952,
          0.11807772617538617,
          0.12945131643858143,
          0.11438625885905918,
          0.1126583601142767,
          0.10307948972039989,
          0.09994936958964669,
          0.10124926100735601
         ],
         "yaxis": "y"
        },
        {
         "alignmentgroup": "True",
         "hovertemplate": "inkomen=100%-109% SM<br>jaar=%{x}<br>value=%{y}<extra></extra>",
         "legendgroup": "100%-109% SM",
         "marker": {
          "color": "#00a0e6",
          "pattern": {
           "shape": ""
          }
         },
         "name": "100%-109% SM",
         "offsetgroup": "100%-109% SM",
         "orientation": "v",
         "showlegend": true,
         "textposition": "auto",
         "type": "bar",
         "x": [
          2011,
          2012,
          2013,
          2014,
          2015,
          2016,
          2017,
          2018
         ],
         "xaxis": "x",
         "y": [
          0.07913586812018081,
          0.07421277132893983,
          0.06383167544118376,
          0.07889055231919245,
          0.07514125301683823,
          0.078957865556127,
          0.07648402672297756,
          0.06939019780773592
         ],
         "yaxis": "y"
        },
        {
         "alignmentgroup": "True",
         "hovertemplate": "inkomen=110%-119% SM<br>jaar=%{x}<br>value=%{y}<extra></extra>",
         "legendgroup": "110%-119% SM",
         "marker": {
          "color": "#71BDEE",
          "pattern": {
           "shape": ""
          }
         },
         "name": "110%-119% SM",
         "offsetgroup": "110%-119% SM",
         "orientation": "v",
         "showlegend": true,
         "textposition": "auto",
         "type": "bar",
         "x": [
          2011,
          2012,
          2013,
          2014,
          2015,
          2016,
          2017,
          2018
         ],
         "xaxis": "x",
         "y": [
          0.03723477798457857,
          0.03618069836795018,
          0.03722883609967712,
          0.035498292182825644,
          0.03378349104569284,
          0.03390574629018703,
          0.032936934266908705,
          0.030935928126302324
         ],
         "yaxis": "y"
        },
        {
         "alignmentgroup": "True",
         "hovertemplate": "inkomen=120%-129% SM<br>jaar=%{x}<br>value=%{y}<extra></extra>",
         "legendgroup": "120%-129% SM",
         "marker": {
          "color": "#B1D9F5",
          "pattern": {
           "shape": ""
          }
         },
         "name": "120%-129% SM",
         "offsetgroup": "120%-129% SM",
         "orientation": "v",
         "showlegend": true,
         "textposition": "auto",
         "type": "bar",
         "x": [
          2011,
          2012,
          2013,
          2014,
          2015,
          2016,
          2017,
          2018
         ],
         "xaxis": "x",
         "y": [
          0.03332624302047328,
          0.032675183691072904,
          0.03247832907440808,
          0.03168188317547983,
          0.030190044879848922,
          0.029844081233301137,
          0.02926437718420825,
          0.02760440391157287
         ],
         "yaxis": "y"
        },
        {
         "alignmentgroup": "True",
         "hovertemplate": "inkomen=130%-199% SM<br>jaar=%{x}<br>value=%{y}<extra></extra>",
         "legendgroup": "130%-199% SM",
         "marker": {
          "color": "#E5F2FC",
          "pattern": {
           "shape": ""
          }
         },
         "name": "130%-199% SM",
         "offsetgroup": "130%-199% SM",
         "orientation": "v",
         "showlegend": true,
         "textposition": "auto",
         "type": "bar",
         "x": [
          2011,
          2012,
          2013,
          2014,
          2015,
          2016,
          2017,
          2018
         ],
         "xaxis": "x",
         "y": [
          0.20945493219888328,
          0.20655449720978913,
          0.19521451671421527,
          0.19135309281682528,
          0.18364293887828415,
          0.1790318736593871,
          0.17389693624272962,
          0.16983020129675036
         ],
         "yaxis": "y"
        },
        {
         "alignmentgroup": "True",
         "hovertemplate": "inkomen=200%-299% SM<br>jaar=%{x}<br>value=%{y}<extra></extra>",
         "legendgroup": "200%-299% SM",
         "marker": {
          "color": "#004699",
          "pattern": {
           "shape": ""
          }
         },
         "name": "200%-299% SM",
         "offsetgroup": "200%-299% SM",
         "orientation": "v",
         "showlegend": true,
         "textposition": "auto",
         "type": "bar",
         "x": [
          2011,
          2012,
          2013,
          2014,
          2015,
          2016,
          2017,
          2018
         ],
         "xaxis": "x",
         "y": [
          0.2328370114331295,
          0.2334309863303336,
          0.22604060900455994,
          0.23014549412929766,
          0.22815070046714797,
          0.2286524253333501,
          0.22664147495029577,
          0.2272002597377425
         ],
         "yaxis": "y"
        },
        {
         "alignmentgroup": "True",
         "hovertemplate": "inkomen=300% SM of meer<br>jaar=%{x}<br>value=%{y}<extra></extra>",
         "legendgroup": "300% SM of meer",
         "marker": {
          "color": "#00a0e6",
          "pattern": {
           "shape": ""
          }
         },
         "name": "300% SM of meer",
         "offsetgroup": "300% SM of meer",
         "orientation": "v",
         "showlegend": true,
         "textposition": "auto",
         "type": "bar",
         "x": [
          2011,
          2012,
          2013,
          2014,
          2015,
          2016,
          2017,
          2018
         ],
         "xaxis": "x",
         "y": [
          0.2980749800584951,
          0.29886813689652814,
          0.3157547172273744,
          0.31804442651731996,
          0.33643321159791123,
          0.3465285182072478,
          0.3608268810432334,
          0.3737897481125401
         ],
         "yaxis": "y"
        }
       ],
       "layout": {
        "barmode": "group",
        "height": 490,
        "legend": {
         "title": {
          "text": ""
         },
         "tracegroupgap": 0
        },
        "margin": {
         "t": 60
        },
        "template": {
         "layout": {
          "colorway": [
           "#004699",
           "#00a0e6",
           "#71BDEE",
           "#B1D9F5",
           "#E5F2FC"
          ],
          "font": {
           "family": "Corbel",
           "size": 15
          },
          "plot_bgcolor": "#FFFFFF",
          "separators": ",",
          "xaxis": {
           "gridcolor": "#dbdbdb",
           "gridwidth": 0.75,
           "linecolor": "#dbdbdb",
           "linewidth": 0.75,
           "showgrid": false,
           "showline": true,
           "zerolinecolor": "#dbdbdb"
          },
          "yaxis": {
           "zeroline": false
          }
         }
        },
        "width": 1000,
        "xaxis": {
         "anchor": "y",
         "domain": [
          0,
          1
         ],
         "title": {
          "text": ""
         }
        },
        "yaxis": {
         "anchor": "x",
         "domain": [
          0,
          1
         ],
         "tickformat": ".0%",
         "title": {
          "text": ""
         }
        }
       }
      }
     },
     "metadata": {},
     "output_type": "display_data"
    }
   ],
   "source": [
    "fig = Bar.grouped(data=arm_long, x='jaar', y='value', color='inkomen', orientation='v', width=1000)\n",
    "fig.update_yaxes(dict(tickformat=\".0%\"))"
   ]
  },
  {
   "cell_type": "code",
   "execution_count": 12,
   "id": "e0e622a0",
   "metadata": {},
   "outputs": [
    {
     "data": {
      "application/vnd.plotly.v1+json": {
       "config": {
        "plotlyServerURL": "https://plot.ly"
       },
       "data": [
        {
         "alignmentgroup": "True",
         "hovertemplate": "inkomen=0%-99% SM<br>value=%{x}<br>jaar=%{y}<extra></extra>",
         "legendgroup": "0%-99% SM",
         "marker": {
          "color": "#004699",
          "pattern": {
           "shape": ""
          }
         },
         "name": "0%-99% SM",
         "offsetgroup": "0%-99% SM",
         "orientation": "h",
         "showlegend": true,
         "textposition": "auto",
         "type": "bar",
         "x": [
          0.10993618718425952,
          0.11807772617538617,
          0.12945131643858143,
          0.11438625885905918,
          0.1126583601142767,
          0.10307948972039989,
          0.09994936958964669,
          0.10124926100735601
         ],
         "xaxis": "x",
         "y": [
          2011,
          2012,
          2013,
          2014,
          2015,
          2016,
          2017,
          2018
         ],
         "yaxis": "y"
        },
        {
         "alignmentgroup": "True",
         "hovertemplate": "inkomen=100%-109% SM<br>value=%{x}<br>jaar=%{y}<extra></extra>",
         "legendgroup": "100%-109% SM",
         "marker": {
          "color": "#00a0e6",
          "pattern": {
           "shape": ""
          }
         },
         "name": "100%-109% SM",
         "offsetgroup": "100%-109% SM",
         "orientation": "h",
         "showlegend": true,
         "textposition": "auto",
         "type": "bar",
         "x": [
          0.07913586812018081,
          0.07421277132893983,
          0.06383167544118376,
          0.07889055231919245,
          0.07514125301683823,
          0.078957865556127,
          0.07648402672297756,
          0.06939019780773592
         ],
         "xaxis": "x",
         "y": [
          2011,
          2012,
          2013,
          2014,
          2015,
          2016,
          2017,
          2018
         ],
         "yaxis": "y"
        },
        {
         "alignmentgroup": "True",
         "hovertemplate": "inkomen=110%-119% SM<br>value=%{x}<br>jaar=%{y}<extra></extra>",
         "legendgroup": "110%-119% SM",
         "marker": {
          "color": "#71BDEE",
          "pattern": {
           "shape": ""
          }
         },
         "name": "110%-119% SM",
         "offsetgroup": "110%-119% SM",
         "orientation": "h",
         "showlegend": true,
         "textposition": "auto",
         "type": "bar",
         "x": [
          0.03723477798457857,
          0.03618069836795018,
          0.03722883609967712,
          0.035498292182825644,
          0.03378349104569284,
          0.03390574629018703,
          0.032936934266908705,
          0.030935928126302324
         ],
         "xaxis": "x",
         "y": [
          2011,
          2012,
          2013,
          2014,
          2015,
          2016,
          2017,
          2018
         ],
         "yaxis": "y"
        },
        {
         "alignmentgroup": "True",
         "hovertemplate": "inkomen=120%-129% SM<br>value=%{x}<br>jaar=%{y}<extra></extra>",
         "legendgroup": "120%-129% SM",
         "marker": {
          "color": "#B1D9F5",
          "pattern": {
           "shape": ""
          }
         },
         "name": "120%-129% SM",
         "offsetgroup": "120%-129% SM",
         "orientation": "h",
         "showlegend": true,
         "textposition": "auto",
         "type": "bar",
         "x": [
          0.03332624302047328,
          0.032675183691072904,
          0.03247832907440808,
          0.03168188317547983,
          0.030190044879848922,
          0.029844081233301137,
          0.02926437718420825,
          0.02760440391157287
         ],
         "xaxis": "x",
         "y": [
          2011,
          2012,
          2013,
          2014,
          2015,
          2016,
          2017,
          2018
         ],
         "yaxis": "y"
        },
        {
         "alignmentgroup": "True",
         "hovertemplate": "inkomen=130%-199% SM<br>value=%{x}<br>jaar=%{y}<extra></extra>",
         "legendgroup": "130%-199% SM",
         "marker": {
          "color": "#E5F2FC",
          "pattern": {
           "shape": ""
          }
         },
         "name": "130%-199% SM",
         "offsetgroup": "130%-199% SM",
         "orientation": "h",
         "showlegend": true,
         "textposition": "auto",
         "type": "bar",
         "x": [
          0.20945493219888328,
          0.20655449720978913,
          0.19521451671421527,
          0.19135309281682528,
          0.18364293887828415,
          0.1790318736593871,
          0.17389693624272962,
          0.16983020129675036
         ],
         "xaxis": "x",
         "y": [
          2011,
          2012,
          2013,
          2014,
          2015,
          2016,
          2017,
          2018
         ],
         "yaxis": "y"
        },
        {
         "alignmentgroup": "True",
         "hovertemplate": "inkomen=200%-299% SM<br>value=%{x}<br>jaar=%{y}<extra></extra>",
         "legendgroup": "200%-299% SM",
         "marker": {
          "color": "#004699",
          "pattern": {
           "shape": ""
          }
         },
         "name": "200%-299% SM",
         "offsetgroup": "200%-299% SM",
         "orientation": "h",
         "showlegend": true,
         "textposition": "auto",
         "type": "bar",
         "x": [
          0.2328370114331295,
          0.2334309863303336,
          0.22604060900455994,
          0.23014549412929766,
          0.22815070046714797,
          0.2286524253333501,
          0.22664147495029577,
          0.2272002597377425
         ],
         "xaxis": "x",
         "y": [
          2011,
          2012,
          2013,
          2014,
          2015,
          2016,
          2017,
          2018
         ],
         "yaxis": "y"
        },
        {
         "alignmentgroup": "True",
         "hovertemplate": "inkomen=300% SM of meer<br>value=%{x}<br>jaar=%{y}<extra></extra>",
         "legendgroup": "300% SM of meer",
         "marker": {
          "color": "#00a0e6",
          "pattern": {
           "shape": ""
          }
         },
         "name": "300% SM of meer",
         "offsetgroup": "300% SM of meer",
         "orientation": "h",
         "showlegend": true,
         "textposition": "auto",
         "type": "bar",
         "x": [
          0.2980749800584951,
          0.29886813689652814,
          0.3157547172273744,
          0.31804442651731996,
          0.33643321159791123,
          0.3465285182072478,
          0.3608268810432334,
          0.3737897481125401
         ],
         "xaxis": "x",
         "y": [
          2011,
          2012,
          2013,
          2014,
          2015,
          2016,
          2017,
          2018
         ],
         "yaxis": "y"
        }
       ],
       "layout": {
        "barmode": "group",
        "height": 490,
        "legend": {
         "title": {
          "text": ""
         },
         "tracegroupgap": 0
        },
        "margin": {
         "t": 60
        },
        "template": {
         "layout": {
          "colorway": [
           "#004699",
           "#00a0e6",
           "#71BDEE",
           "#B1D9F5",
           "#E5F2FC"
          ],
          "font": {
           "family": "Corbel",
           "size": 15
          },
          "plot_bgcolor": "#FFFFFF",
          "separators": ",",
          "xaxis": {
           "zeroline": false
          },
          "yaxis": {
           "gridcolor": "#dbdbdb",
           "gridwidth": 0.75,
           "linecolor": "#dbdbdb",
           "linewidth": 0.75,
           "showgrid": false,
           "showline": true,
           "zerolinecolor": "#dbdbdb"
          }
         }
        },
        "width": 750,
        "xaxis": {
         "anchor": "y",
         "domain": [
          0,
          1
         ],
         "tickformat": ".0%",
         "title": {
          "text": ""
         }
        },
        "yaxis": {
         "anchor": "x",
         "domain": [
          0,
          1
         ],
         "title": {
          "text": ""
         }
        }
       }
      }
     },
     "metadata": {},
     "output_type": "display_data"
    }
   ],
   "source": [
    "fig = Bar.grouped(data=arm_long, y='jaar', x='value', color='inkomen', orientation='h')\n",
    "fig.update_xaxes(dict(tickformat=\".0%\"))"
   ]
  },
  {
   "cell_type": "code",
   "execution_count": 13,
   "id": "ac28e798",
   "metadata": {},
   "outputs": [
    {
     "data": {
      "application/vnd.plotly.v1+json": {
       "config": {
        "plotlyServerURL": "https://plot.ly"
       },
       "data": [
        {
         "alignmentgroup": "True",
         "hovertemplate": "value=%{x}<br>inkomen=%{y}<extra></extra>",
         "legendgroup": "",
         "marker": {
          "color": "#004699",
          "pattern": {
           "shape": ""
          }
         },
         "name": "",
         "offsetgroup": "",
         "orientation": "h",
         "showlegend": false,
         "textposition": "auto",
         "type": "bar",
         "x": [
          0.10993618718425952,
          0.07913586812018081,
          0.03723477798457857,
          0.03332624302047328,
          0.20945493219888328,
          0.2328370114331295,
          0.2980749800584951
         ],
         "xaxis": "x",
         "y": [
          "0%-99% SM",
          "100%-109% SM",
          "110%-119% SM",
          "120%-129% SM",
          "130%-199% SM",
          "200%-299% SM",
          "300% SM of meer"
         ],
         "yaxis": "y"
        }
       ],
       "layout": {
        "height": 490,
        "legend": {
         "title": {
          "text": ""
         },
         "tracegroupgap": 0
        },
        "margin": {
         "t": 60
        },
        "template": {
         "layout": {
          "colorway": [
           "#004699",
           "#00a0e6",
           "#71BDEE",
           "#B1D9F5",
           "#E5F2FC"
          ],
          "font": {
           "family": "Corbel",
           "size": 15
          },
          "plot_bgcolor": "#FFFFFF",
          "separators": ",",
          "xaxis": {
           "zeroline": false
          },
          "yaxis": {
           "gridcolor": "#dbdbdb",
           "gridwidth": 0.75,
           "linecolor": "#dbdbdb",
           "linewidth": 0.75,
           "showgrid": false,
           "showline": true,
           "zerolinecolor": "#dbdbdb"
          }
         }
        },
        "width": 750,
        "xaxis": {
         "anchor": "y",
         "domain": [
          0,
          1
         ],
         "tickformat": ".0%",
         "title": {
          "text": ""
         }
        },
        "yaxis": {
         "anchor": "x",
         "automargin": true,
         "domain": [
          0,
          1
         ],
         "title": {
          "text": ""
         }
        }
       }
      }
     },
     "metadata": {},
     "output_type": "display_data"
    }
   ],
   "source": [
    "fig = Bar.single(arm_long.query(\"jaar == 2011\"), x='value', y='inkomen', orientation='h')\n",
    "fig.update_xaxes(dict(tickformat=\".0%\"))"
   ]
  },
  {
   "cell_type": "code",
   "execution_count": 14,
   "id": "730696a6",
   "metadata": {},
   "outputs": [
    {
     "data": {
      "application/vnd.plotly.v1+json": {
       "config": {
        "plotlyServerURL": "https://plot.ly"
       },
       "data": [
        {
         "alignmentgroup": "True",
         "hovertemplate": "inkomen=%{x}<br>value=%{text}<extra></extra>",
         "legendgroup": "",
         "marker": {
          "color": "#004699",
          "pattern": {
           "shape": ""
          }
         },
         "name": "",
         "offsetgroup": "",
         "orientation": "v",
         "showlegend": false,
         "text": [
          0.10993618718425952,
          0.07913586812018081,
          0.03723477798457857,
          0.03332624302047328,
          0.20945493219888328,
          0.2328370114331295,
          0.2980749800584951
         ],
         "textposition": "outside",
         "texttemplate": "%{value:.2f}",
         "type": "bar",
         "x": [
          "0%-99% SM",
          "100%-109% SM",
          "110%-119% SM",
          "120%-129% SM",
          "130%-199% SM",
          "200%-299% SM",
          "300% SM of meer"
         ],
         "xaxis": "x",
         "y": [
          0.10993618718425952,
          0.07913586812018081,
          0.03723477798457857,
          0.03332624302047328,
          0.20945493219888328,
          0.2328370114331295,
          0.2980749800584951
         ],
         "yaxis": "y"
        }
       ],
       "layout": {
        "height": 490,
        "legend": {
         "title": {
          "text": ""
         },
         "tracegroupgap": 0
        },
        "margin": {
         "t": 60
        },
        "template": {
         "layout": {
          "colorway": [
           "#004699",
           "#00a0e6",
           "#71BDEE",
           "#B1D9F5",
           "#E5F2FC"
          ],
          "font": {
           "family": "Corbel",
           "size": 15
          },
          "plot_bgcolor": "#FFFFFF",
          "separators": ",",
          "xaxis": {
           "gridcolor": "#dbdbdb",
           "gridwidth": 0.75,
           "linecolor": "#dbdbdb",
           "linewidth": 0.75,
           "showgrid": false,
           "showline": true,
           "zerolinecolor": "#dbdbdb"
          },
          "yaxis": {
           "zeroline": false
          }
         }
        },
        "width": 750,
        "xaxis": {
         "anchor": "y",
         "domain": [
          0,
          1
         ],
         "title": {
          "text": ""
         }
        },
        "yaxis": {
         "anchor": "x",
         "domain": [
          0,
          1
         ],
         "title": {
          "text": ""
         }
        }
       }
      }
     },
     "metadata": {},
     "output_type": "display_data"
    }
   ],
   "source": [
    "fig = Bar.single(arm_long.query(\"jaar == 2011\"), y='value', x='inkomen', orientation='v', text='value')\n",
    "fig.update_traces(texttemplate='%{value:.2f}', textposition='outside')\n",
    "fig.show()"
   ]
  },
  {
   "cell_type": "code",
   "execution_count": 15,
   "id": "5f85ca12",
   "metadata": {},
   "outputs": [
    {
     "data": {
      "application/vnd.plotly.v1+json": {
       "config": {
        "plotlyServerURL": "https://plot.ly"
       },
       "data": [
        {
         "domain": {
          "x": [
           0,
           1
          ],
          "y": [
           0,
           1
          ]
         },
         "hole": 0.6,
         "hovertemplate": "inkomen=%{label}<br>value=%{value}<extra></extra>",
         "labels": [
          "0%-99% SM",
          "100%-109% SM",
          "110%-119% SM",
          "120%-129% SM",
          "130%-199% SM",
          "200%-299% SM",
          "300% SM of meer"
         ],
         "legendgroup": "",
         "name": "",
         "showlegend": true,
         "type": "pie",
         "values": [
          0.10993618718425952,
          0.07913586812018081,
          0.03723477798457857,
          0.03332624302047328,
          0.20945493219888328,
          0.2328370114331295,
          0.2980749800584951
         ]
        }
       ],
       "layout": {
        "height": 490,
        "legend": {
         "tracegroupgap": 0
        },
        "margin": {
         "t": 60
        },
        "template": {
         "layout": {
          "colorway": [
           "#004699",
           "#00a0e6",
           "#71BDEE",
           "#B1D9F5",
           "#E5F2FC"
          ],
          "font": {
           "family": "Corbel",
           "size": 15
          },
          "plot_bgcolor": "#FFFFFF",
          "separators": ","
         }
        },
        "width": 750
       }
      }
     },
     "metadata": {},
     "output_type": "display_data"
    }
   ],
   "source": [
    "Donut.donut(arm_long.query(\"jaar == 2011\"), names=\"inkomen\", values=\"value\", hole=0.6)"
   ]
  },
  {
   "cell_type": "code",
   "execution_count": 16,
   "id": "4820cbc4-35fd-4626-b101-76c0dca023ef",
   "metadata": {},
   "outputs": [
    {
     "data": {
      "application/vnd.plotly.v1+json": {
       "config": {
        "plotlyServerURL": "https://plot.ly"
       },
       "data": [
        {
         "hovertemplate": "inkomen=0%-99% SM<br>jaar=%{x}<br>value=%{y}<extra></extra>",
         "legendgroup": "0%-99% SM",
         "line": {
          "color": "#004699",
          "dash": "solid"
         },
         "marker": {
          "symbol": "circle"
         },
         "mode": "lines",
         "name": "0%-99% SM",
         "orientation": "v",
         "showlegend": true,
         "type": "scatter",
         "x": [
          2011,
          2012,
          2013,
          2014,
          2015,
          2016,
          2017,
          2018
         ],
         "xaxis": "x",
         "y": [
          0.10993618718425952,
          0.11807772617538617,
          0.12945131643858143,
          0.11438625885905918,
          0.1126583601142767,
          0.10307948972039989,
          0.09994936958964669,
          0.10124926100735601
         ],
         "yaxis": "y"
        },
        {
         "hovertemplate": "inkomen=100%-109% SM<br>jaar=%{x}<br>value=%{y}<extra></extra>",
         "legendgroup": "100%-109% SM",
         "line": {
          "color": "#00a0e6",
          "dash": "solid"
         },
         "marker": {
          "symbol": "circle"
         },
         "mode": "lines",
         "name": "100%-109% SM",
         "orientation": "v",
         "showlegend": true,
         "type": "scatter",
         "x": [
          2011,
          2012,
          2013,
          2014,
          2015,
          2016,
          2017,
          2018
         ],
         "xaxis": "x",
         "y": [
          0.07913586812018081,
          0.07421277132893983,
          0.06383167544118376,
          0.07889055231919245,
          0.07514125301683823,
          0.078957865556127,
          0.07648402672297756,
          0.06939019780773592
         ],
         "yaxis": "y"
        },
        {
         "hovertemplate": "inkomen=110%-119% SM<br>jaar=%{x}<br>value=%{y}<extra></extra>",
         "legendgroup": "110%-119% SM",
         "line": {
          "color": "#71BDEE",
          "dash": "solid"
         },
         "marker": {
          "symbol": "circle"
         },
         "mode": "lines",
         "name": "110%-119% SM",
         "orientation": "v",
         "showlegend": true,
         "type": "scatter",
         "x": [
          2011,
          2012,
          2013,
          2014,
          2015,
          2016,
          2017,
          2018
         ],
         "xaxis": "x",
         "y": [
          0.03723477798457857,
          0.03618069836795018,
          0.03722883609967712,
          0.035498292182825644,
          0.03378349104569284,
          0.03390574629018703,
          0.032936934266908705,
          0.030935928126302324
         ],
         "yaxis": "y"
        },
        {
         "hovertemplate": "inkomen=120%-129% SM<br>jaar=%{x}<br>value=%{y}<extra></extra>",
         "legendgroup": "120%-129% SM",
         "line": {
          "color": "#B1D9F5",
          "dash": "solid"
         },
         "marker": {
          "symbol": "circle"
         },
         "mode": "lines",
         "name": "120%-129% SM",
         "orientation": "v",
         "showlegend": true,
         "type": "scatter",
         "x": [
          2011,
          2012,
          2013,
          2014,
          2015,
          2016,
          2017,
          2018
         ],
         "xaxis": "x",
         "y": [
          0.03332624302047328,
          0.032675183691072904,
          0.03247832907440808,
          0.03168188317547983,
          0.030190044879848922,
          0.029844081233301137,
          0.02926437718420825,
          0.02760440391157287
         ],
         "yaxis": "y"
        },
        {
         "hovertemplate": "inkomen=130%-199% SM<br>jaar=%{x}<br>value=%{y}<extra></extra>",
         "legendgroup": "130%-199% SM",
         "line": {
          "color": "#E5F2FC",
          "dash": "solid"
         },
         "marker": {
          "symbol": "circle"
         },
         "mode": "lines",
         "name": "130%-199% SM",
         "orientation": "v",
         "showlegend": true,
         "type": "scatter",
         "x": [
          2011,
          2012,
          2013,
          2014,
          2015,
          2016,
          2017,
          2018
         ],
         "xaxis": "x",
         "y": [
          0.20945493219888328,
          0.20655449720978913,
          0.19521451671421527,
          0.19135309281682528,
          0.18364293887828415,
          0.1790318736593871,
          0.17389693624272962,
          0.16983020129675036
         ],
         "yaxis": "y"
        },
        {
         "hovertemplate": "inkomen=200%-299% SM<br>jaar=%{x}<br>value=%{y}<extra></extra>",
         "legendgroup": "200%-299% SM",
         "line": {
          "color": "#004699",
          "dash": "solid"
         },
         "marker": {
          "symbol": "circle"
         },
         "mode": "lines",
         "name": "200%-299% SM",
         "orientation": "v",
         "showlegend": true,
         "type": "scatter",
         "x": [
          2011,
          2012,
          2013,
          2014,
          2015,
          2016,
          2017,
          2018
         ],
         "xaxis": "x",
         "y": [
          0.2328370114331295,
          0.2334309863303336,
          0.22604060900455994,
          0.23014549412929766,
          0.22815070046714797,
          0.2286524253333501,
          0.22664147495029577,
          0.2272002597377425
         ],
         "yaxis": "y"
        },
        {
         "hovertemplate": "inkomen=300% SM of meer<br>jaar=%{x}<br>value=%{y}<extra></extra>",
         "legendgroup": "300% SM of meer",
         "line": {
          "color": "#00a0e6",
          "dash": "solid"
         },
         "marker": {
          "symbol": "circle"
         },
         "mode": "lines",
         "name": "300% SM of meer",
         "orientation": "v",
         "showlegend": true,
         "type": "scatter",
         "x": [
          2011,
          2012,
          2013,
          2014,
          2015,
          2016,
          2017,
          2018
         ],
         "xaxis": "x",
         "y": [
          0.2980749800584951,
          0.29886813689652814,
          0.3157547172273744,
          0.31804442651731996,
          0.33643321159791123,
          0.3465285182072478,
          0.3608268810432334,
          0.3737897481125401
         ],
         "yaxis": "y"
        }
       ],
       "layout": {
        "height": 490,
        "legend": {
         "title": {
          "text": "inkomen"
         },
         "tracegroupgap": 0
        },
        "margin": {
         "t": 60
        },
        "template": {
         "layout": {
          "colorway": [
           "#004699",
           "#00a0e6",
           "#71BDEE",
           "#B1D9F5",
           "#E5F2FC"
          ],
          "font": {
           "family": "Corbel",
           "size": 15
          },
          "plot_bgcolor": "#FFFFFF",
          "separators": ",",
          "xaxis": {
           "gridcolor": "#dbdbdb",
           "gridwidth": 0.75,
           "linecolor": "#dbdbdb",
           "linewidth": 0.75,
           "showgrid": false,
           "showline": true,
           "zerolinecolor": "#dbdbdb"
          },
          "yaxis": {
           "zeroline": false
          }
         }
        },
        "width": 750,
        "xaxis": {
         "anchor": "y",
         "domain": [
          0,
          1
         ],
         "title": {
          "text": "jaar"
         }
        },
        "yaxis": {
         "anchor": "x",
         "domain": [
          0,
          1
         ],
         "tickformat": ".0%",
         "title": {
          "text": "value"
         }
        }
       }
      }
     },
     "metadata": {},
     "output_type": "display_data"
    }
   ],
   "source": [
    "fig = Line.line(arm_long, x='jaar', y='value', color=\"inkomen\", orientation=\"v\")\n",
    "fig.update_yaxes(dict(tickformat=\".0%\"))"
   ]
  },
  {
   "cell_type": "code",
   "execution_count": 24,
   "id": "f3327f33",
   "metadata": {},
   "outputs": [
    {
     "data": {
      "text/plain": [
       "layout.Template({\n",
       "    'layout': {'colorway': [#004699, #00a0e6, #71BDEE, #B1D9F5, #E5F2FC],\n",
       "               'font': {'family': 'Corbel', 'size': 15},\n",
       "               'plot_bgcolor': '#FFFFFF',\n",
       "               'separators': ',',\n",
       "               'xaxis': {'gridcolor': '#dbdbdb',\n",
       "                         'gridwidth': 0.75,\n",
       "                         'linecolor': '#dbdbdb',\n",
       "                         'linewidth': 0.75,\n",
       "                         'showgrid': False,\n",
       "                         'showline': True,\n",
       "                         'zerolinecolor': '#dbdbdb'},\n",
       "               'yaxis': {'zeroline': False}}\n",
       "})"
      ]
     },
     "execution_count": 24,
     "metadata": {},
     "output_type": "execute_result"
    }
   ],
   "source": [
    "basestyle = BaseStyle()\n",
    "style = basestyle.get_base_template(graph_type=\"bar\", orientation=\"v\")\n",
    "style"
   ]
  }
 ],
 "metadata": {
  "interpreter": {
   "hash": "138d7f343e88b110ca15249947a36cbfa58468de7cfaf6ef63f238ff29bf8c6b"
  },
  "kernelspec": {
   "display_name": "Python 3.8.8 64-bit ('base': conda)",
   "name": "python3"
  },
  "language_info": {
   "codemirror_mode": {
    "name": "ipython",
    "version": 3
   },
   "file_extension": ".py",
   "mimetype": "text/x-python",
   "name": "python",
   "nbconvert_exporter": "python",
   "pygments_lexer": "ipython3",
   "version": "3.8.8"
  }
 },
 "nbformat": 4,
 "nbformat_minor": 5
}
